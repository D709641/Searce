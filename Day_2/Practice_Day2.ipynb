{
 "cells": [
  {
   "cell_type": "markdown",
   "id": "2823355d",
   "metadata": {},
   "source": [
    "# Double-Ended Queue"
   ]
  },
  {
   "cell_type": "code",
   "execution_count": 2,
   "id": "31471bb9",
   "metadata": {},
   "outputs": [
    {
     "name": "stdout",
     "output_type": "stream",
     "text": [
      "queue: 9 4 1 6 2\n",
      "queue after dequeue1: 4 1 6 2\n",
      "queue after dequeue: 4 1 6\n"
     ]
    }
   ],
   "source": [
    "def push_first(queue,val):\n",
    "    queue.insert(0,val)\n",
    "def push_last(queue,val):\n",
    "    queue.append(val)\n",
    "def dequeue_first(queue):\n",
    "    return queue.pop(0)\n",
    "def dequeue_last(queue):\n",
    "    return queue.pop()\n",
    "if __name__=='__main__':\n",
    "    queue=[]\n",
    "    push_first(queue,1)\n",
    "    push_first(queue,4)\n",
    "    push_first(queue,9)\n",
    "    push_last(queue,6)\n",
    "    push_last(queue,2)\n",
    "    print(\"queue:\",*queue)\n",
    "    \n",
    "    dequeue_first(queue)\n",
    "    print(\"queue after dequeue1:\",*queue)\n",
    "    \n",
    "    dequeue_last(queue)\n",
    "    print(\"queue after dequeue:\",*queue)"
   ]
  },
  {
   "cell_type": "markdown",
   "id": "de77f5be",
   "metadata": {},
   "source": [
    "# Implementing Queue with LinkedList"
   ]
  },
  {
   "cell_type": "code",
   "execution_count": 7,
   "id": "361a3ef4",
   "metadata": {},
   "outputs": [
    {
     "name": "stdout",
     "output_type": "stream",
     "text": [
      "Queue Front  12\n",
      "Queue Rear  6\n",
      "Queue\n",
      "12 5 7 6 "
     ]
    }
   ],
   "source": [
    "class Node:\n",
    "     def __init__(self, data):\n",
    "        self.data = data\n",
    "        self.next = None\n",
    "\n",
    "class Queue:\n",
    "    def __init__(self):\n",
    "        self.front = None\n",
    "        self.rear = None\n",
    "    def isEmpty(self):\n",
    "        return self.front == None\n",
    "\n",
    "    def EnQueue(self, val):\n",
    "        temp = Node(val)\n",
    "         \n",
    "        if self.rear == None:\n",
    "            self.front = self.rear = temp\n",
    "            return\n",
    "        self.rear.next = temp\n",
    "        self.rear = temp\n",
    "\n",
    "    def DeQueue(self):\n",
    "         \n",
    "        if self.isEmpty():\n",
    "            return\n",
    "        temp = self.front\n",
    "        self.front = temp.next\n",
    " \n",
    "        if(self.front == None):\n",
    "            self.rear = None\n",
    " \n",
    "if __name__== '__main__':\n",
    "    q = Queue()\n",
    "    q.EnQueue(4)\n",
    "    q.EnQueue(9)\n",
    "    q.DeQueue()\n",
    "    q.DeQueue()\n",
    "    q.EnQueue(10)\n",
    "    q.EnQueue(12)\n",
    "    q.EnQueue(5)\n",
    "    q.EnQueue(7)\n",
    "    q.EnQueue(6)\n",
    "    q.DeQueue()  \n",
    "    print(\"Queue Front \" , q.front.data)\n",
    "    print(\"Queue Rear \" , q.rear.data)\n",
    "    print(\"Queue\")\n",
    "    while(q.front):\n",
    "        print(q.front.data,end=\" \")\n",
    "        q.front=q.front.next\n",
    "    "
   ]
  },
  {
   "cell_type": "markdown",
   "id": "5048f9c4",
   "metadata": {},
   "source": [
    "# Doubly LinkedList"
   ]
  },
  {
   "cell_type": "code",
   "execution_count": 10,
   "id": "cb4f5e86",
   "metadata": {},
   "outputs": [
    {
     "name": "stdout",
     "output_type": "stream",
     "text": [
      "Created DLL is: \n",
      "\n",
      "Traversal in forward direction\n",
      "1 7 8 6 4 \n",
      "Traversal in reverse direction\n",
      "4 6 8 7 1 "
     ]
    }
   ],
   "source": [
    "class Node:\n",
    "    def __init__(self, data):\n",
    "        self.data = data\n",
    "        self.next = None\n",
    "        self.prev = None\n",
    "\n",
    "class DoublyLinkedList:\n",
    "    def __init__(self):\n",
    "        self.head = None\n",
    "\n",
    "    def push(self, new_data):\n",
    "        new_node = Node(new_data)\n",
    "        new_node.next = self.head\n",
    "        if self.head is not None:\n",
    "            self.head.prev = new_node\n",
    "        self.head = new_node\n",
    "    def insertAfter(self, prev_node, new_data):\n",
    "        new_node = Node(new_data)\n",
    "        new_node.next = prev_node.next\n",
    "        prev_node.next = new_node\n",
    "        new_node.prev = prev_node\n",
    "        if new_node.next:\n",
    "            new_node.next.prev = new_node\n",
    "    def append(self, new_data):\n",
    "        new_node = Node(new_data)\n",
    "        if self.head is None:\n",
    "            self.head = new_node\n",
    "            return\n",
    "        last = self.head\n",
    "        while last.next:\n",
    "            last = last.next\n",
    "        last.next = new_node\n",
    "        new_node.prev = last\n",
    "\n",
    "        return\n",
    "    def printList(self, node):\n",
    "\n",
    "        print(\"\\nTraversal in forward direction\")\n",
    "        while node:\n",
    "            print(node.data,end=\" \")\n",
    "            last = node\n",
    "            node = node.next\n",
    "\n",
    "        print(\"\\nTraversal in reverse direction\")\n",
    "        while last:\n",
    "            print(last.data,end=\" \")\n",
    "            last = last.prev\n",
    "llist = DoublyLinkedList()\n",
    "llist.append(6)\n",
    "llist.push(7)\n",
    "llist.push(1)\n",
    "llist.append(4)\n",
    "llist.insertAfter(llist.head.next, 8)\n",
    "\n",
    "print (\"Created DLL is: \")\n",
    "llist.printList(llist.head)\n"
   ]
  },
  {
   "cell_type": "code",
   "execution_count": null,
   "id": "a2954272",
   "metadata": {},
   "outputs": [],
   "source": []
  }
 ],
 "metadata": {
  "kernelspec": {
   "display_name": "Python 3",
   "language": "python",
   "name": "python3"
  },
  "language_info": {
   "codemirror_mode": {
    "name": "ipython",
    "version": 3
   },
   "file_extension": ".py",
   "mimetype": "text/x-python",
   "name": "python",
   "nbconvert_exporter": "python",
   "pygments_lexer": "ipython3",
   "version": "3.8.8"
  }
 },
 "nbformat": 4,
 "nbformat_minor": 5
}
