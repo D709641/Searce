{
 "cells": [
  {
   "cell_type": "markdown",
   "id": "22b59ebb",
   "metadata": {},
   "source": [
    "# Assignment Question"
   ]
  },
  {
   "cell_type": "code",
   "execution_count": 1,
   "id": "55f464ac",
   "metadata": {},
   "outputs": [
    {
     "name": "stdout",
     "output_type": "stream",
     "text": [
      "10\n",
      "1 97\n",
      "2\n",
      "1 20\n",
      "2\n",
      "1 26\n",
      "1 20\n",
      "2\n",
      "3\n",
      "26\n",
      "1 91\n",
      "3\n",
      "91\n"
     ]
    }
   ],
   "source": [
    "n=int(input())\n",
    "stack=[]\n",
    "for _ in range(n):\n",
    "    a=list(map(int,input().split()))\n",
    "    if a[0]==1:\n",
    "        stack.append(a[1])\n",
    "    elif a[0]==2:\n",
    "        if len(stack)==0:\n",
    "            print(\"stack underflow\")\n",
    "        else:\n",
    "            stack.pop()\n",
    "    else:\n",
    "        print(max(stack))\n",
    "        "
   ]
  },
  {
   "cell_type": "code",
   "execution_count": null,
   "id": "a0260434",
   "metadata": {},
   "outputs": [],
   "source": [
    "Sample Input\n",
    "STDIN   Function\n",
    "-----   --------\n",
    "10      operations[] size n = 10\n",
    "1 97    operations = ['1 97', '2', '1 20', ....]\n",
    "2\n",
    "1 20\n",
    "2\n",
    "1 26\n",
    "1 20\n",
    "2\n",
    "3\n",
    "1 91\n",
    "3\n",
    "\n",
    "Sample Output\n",
    "26\n",
    "91"
   ]
  }
 ],
 "metadata": {
  "kernelspec": {
   "display_name": "Python 3",
   "language": "python",
   "name": "python3"
  },
  "language_info": {
   "codemirror_mode": {
    "name": "ipython",
    "version": 3
   },
   "file_extension": ".py",
   "mimetype": "text/x-python",
   "name": "python",
   "nbconvert_exporter": "python",
   "pygments_lexer": "ipython3",
   "version": "3.8.8"
  }
 },
 "nbformat": 4,
 "nbformat_minor": 5
}
