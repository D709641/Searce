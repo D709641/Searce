{
 "cells": [
  {
   "cell_type": "markdown",
   "metadata": {},
   "source": [
    "Dynamic Programming"
   ]
  },
  {
   "cell_type": "code",
   "execution_count": 3,
   "metadata": {},
   "outputs": [],
   "source": [
    "#Fibonaci series\n",
    "\n",
    "fib=[]\n",
    "fib.append(1)\n",
    "fib.append(1)\n",
    "for i in range(2,100):\n",
    "    fib.append((fib[i-1]+fib[i-2]))\n"
   ]
  },
  {
   "cell_type": "code",
   "execution_count": 5,
   "metadata": {},
   "outputs": [
    {
     "name": "stdout",
     "output_type": "stream",
     "text": [
      "[1, 1, 2, 3, 5]\n",
      "[1, 1, 2, 3, 5, 8, 13, 21, 34, 55, 89, 144, 233, 377, 610, 987, 1597, 2584, 4181, 6765]\n"
     ]
    }
   ],
   "source": [
    "print(fib[:5])\n",
    "\n",
    "print(fib[:20])"
   ]
  },
  {
   "cell_type": "code",
   "execution_count": 7,
   "metadata": {},
   "outputs": [
    {
     "name": "stdout",
     "output_type": "stream",
     "text": [
      "150\n"
     ]
    }
   ],
   "source": [
    "#knapsack Problem\n",
    "\n",
    "def knapSack(W, wt, val, n):\n",
    "    dp = [0 for i in range(W+1)] \n",
    " \n",
    "    for i in range(1, n+1):\n",
    "        for w in range(W, 0, -1): \n",
    "            if wt[i-1] <= w:\n",
    "                dp[w] = max(dp[w], dp[w-wt[i-1]]+val[i-1])\n",
    " \n",
    "    return dp[W]\n",
    " \n",
    " \n",
    "val = [70, 80, 120]\n",
    "wt = [20, 30, 40]\n",
    "W = 50\n",
    "n = len(val)\n",
    "print(knapSack(W, wt, val, n))"
   ]
  },
  {
   "cell_type": "code",
   "execution_count": 11,
   "metadata": {},
   "outputs": [
    {
     "name": "stdout",
     "output_type": "stream",
     "text": [
      "26\n"
     ]
    }
   ],
   "source": [
    "#Cutting a Rob problem\n",
    "\n",
    "def fun(price, ll, Max_len, n):\n",
    "    if (n == 0 or Max_len == 0):\n",
    "        return 0\n",
    "    if (ll[n - 1] <= Max_len):\n",
    "        t[n][Max_len] = max(price[n - 1] + fun(price, ll, Max_len - ll[n - 1], n),\n",
    "                fun(price, ll, Max_len, n - 1))\n",
    "    else:\n",
    "        t[n][Max_len] = fun(price, ll, Max_len, n - 1)\n",
    "    return t[n][Max_len]\n",
    " \n",
    " \n",
    " \n",
    "price = [1, 2, 8, 9, 18, 18, 17, 20 ];\n",
    "n =len(price);\n",
    "ll = [0]*n;\n",
    "for i in range(n):\n",
    "    ll[i] = i + 1;\n",
    "t = [[0 for i in range(9)] for j in range(9)]    \n",
    "Max_len = n;\n",
    "print(fun(price, ll, n, Max_len));\n",
    " "
   ]
  },
  {
   "cell_type": "code",
   "execution_count": null,
   "metadata": {},
   "outputs": [],
   "source": []
  }
 ],
 "metadata": {
  "interpreter": {
   "hash": "31f2aee4e71d21fbe5cf8b01ff0e069b9275f58929596ceb00d14d90e3e16cd6"
  },
  "kernelspec": {
   "display_name": "Python 3.8.9 64-bit",
   "language": "python",
   "name": "python3"
  },
  "language_info": {
   "codemirror_mode": {
    "name": "ipython",
    "version": 3
   },
   "file_extension": ".py",
   "mimetype": "text/x-python",
   "name": "python",
   "nbconvert_exporter": "python",
   "pygments_lexer": "ipython3",
   "version": "3.8.9"
  },
  "orig_nbformat": 4
 },
 "nbformat": 4,
 "nbformat_minor": 2
}
