{
 "cells": [
  {
   "cell_type": "markdown",
   "id": "f66a1227",
   "metadata": {},
   "source": [
    "# Question-1"
   ]
  },
  {
   "cell_type": "code",
   "execution_count": 2,
   "id": "a691a914",
   "metadata": {},
   "outputs": [
    {
     "name": "stdout",
     "output_type": "stream",
     "text": [
      "4\n",
      "5 8 7 6\n",
      "6 7 8 5\n"
     ]
    }
   ],
   "source": [
    "Q=int(input())\n",
    "p=list(map(int,input().split()))[::-1]\n",
    "\n",
    "print(*p)"
   ]
  },
  {
   "cell_type": "markdown",
   "id": "5dec0c85",
   "metadata": {},
   "source": [
    "# Question-2"
   ]
  },
  {
   "cell_type": "code",
   "execution_count": 4,
   "id": "5e7f0f7b",
   "metadata": {},
   "outputs": [
    {
     "name": "stdout",
     "output_type": "stream",
     "text": [
      "5\n",
      "4 9 1 2 7\n",
      "4\n",
      "9\n",
      "1\n",
      "2\n",
      "7\n"
     ]
    }
   ],
   "source": [
    "class Node:\n",
    "    def __init__(self, data):\n",
    "        self.data = data \n",
    "        self.next = None \n",
    "\n",
    "class LinkedList:\n",
    "    def __init__(self):\n",
    "        self.head = None\n",
    "\n",
    "\n",
    "if __name__=='__main__':\n",
    "    p=int(input())\n",
    "    q=list(map(int,input().split()))\n",
    "    l=LinkedList()\n",
    "    l.head=Node(q[0])\n",
    "    a=l.head\n",
    "    for i in range(1,p):\n",
    "        a.next=Node(q[i])\n",
    "        a=a.next\n",
    "    \n",
    "    while(l.head):\n",
    "        print(l.head.data)\n",
    "        l.head=l.head.next"
   ]
  },
  {
   "cell_type": "code",
   "execution_count": null,
   "id": "788c61c6",
   "metadata": {},
   "outputs": [],
   "source": []
  }
 ],
 "metadata": {
  "kernelspec": {
   "display_name": "Python 3",
   "language": "python",
   "name": "python3"
  },
  "language_info": {
   "codemirror_mode": {
    "name": "ipython",
    "version": 3
   },
   "file_extension": ".py",
   "mimetype": "text/x-python",
   "name": "python",
   "nbconvert_exporter": "python",
   "pygments_lexer": "ipython3",
   "version": "3.8.8"
  }
 },
 "nbformat": 4,
 "nbformat_minor": 5
}
