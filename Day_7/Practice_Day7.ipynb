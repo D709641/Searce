{
 "cells": [
  {
   "cell_type": "markdown",
   "metadata": {},
   "source": [
    "Randomised Selection Sort"
   ]
  },
  {
   "cell_type": "code",
   "execution_count": 1,
   "metadata": {},
   "outputs": [
    {
     "name": "stdout",
     "output_type": "stream",
     "text": [
      "1\n",
      "3\n",
      "4\n",
      "7\n",
      "8\n",
      "9\n"
     ]
    }
   ],
   "source": [
    "from random import randrange\n",
    "\n",
    "def partition(x, pivot_index = 0):\n",
    "    i = 0\n",
    "    if pivot_index !=0: x[0],x[pivot_index] = x[pivot_index],x[0]\n",
    "    for j in range(len(x)-1):\n",
    "        if x[j+1] < x[0]:\n",
    "            x[j+1],x[i+1] = x[i+1],x[j+1]\n",
    "            i += 1\n",
    "    x[0],x[i] = x[i],x[0]\n",
    "    return x,i\n",
    "\n",
    "def RSelect(x,k):\n",
    "    if len(x) == 1:\n",
    "        return x[0]\n",
    "    else:\n",
    "        xpart = partition(x,randrange(len(x)))\n",
    "        x = xpart[0] # partitioned array\n",
    "        j = xpart[1] # pivot index\n",
    "        if j == k:\n",
    "            return x[j]\n",
    "        elif j > k:\n",
    "            return RSelect(x[:j],k)\n",
    "        else:\n",
    "            k = k - j - 1\n",
    "            return RSelect(x[(j+1):], k)\n",
    "        \n",
    "x = [3,1,8,4,7,9]\n",
    "for i in range(len(x)):\n",
    "    print(RSelect(x,i))"
   ]
  },
  {
   "cell_type": "markdown",
   "metadata": {},
   "source": [
    "Heap Sort\n"
   ]
  },
  {
   "cell_type": "code",
   "execution_count": 4,
   "metadata": {},
   "outputs": [
    {
     "name": "stdout",
     "output_type": "stream",
     "text": [
      "Sorted array is\n",
      "1 5 6 9 10 12 "
     ]
    }
   ],
   "source": [
    "def heapify(arr, n, i):\n",
    "      # Find largest among root and children\n",
    "      largest = i\n",
    "      l = 2 * i + 1\n",
    "      r = 2 * i + 2\n",
    "  \n",
    "      if l < n and arr[i] < arr[l]:\n",
    "          largest = l\n",
    "  \n",
    "      if r < n and arr[largest] < arr[r]:\n",
    "          largest = r\n",
    "  \n",
    "      if largest != i:\n",
    "          arr[i], arr[largest] = arr[largest], arr[i]\n",
    "          heapify(arr, n, largest)\n",
    "  \n",
    "  \n",
    "def heapSort(arr):\n",
    "      n = len(arr)\n",
    "  \n",
    "      # Build max heap\n",
    "      for i in range(n//2, -1, -1):\n",
    "          heapify(arr, n, i)\n",
    "  \n",
    "      for i in range(n-1, 0, -1):\n",
    "          arr[i], arr[0] = arr[0], arr[i]\n",
    "  \n",
    "          heapify(arr, i, 0)\n",
    "  \n",
    "  \n",
    "arr = [1, 12, 9, 5, 6, 10]\n",
    "heapSort(arr)\n",
    "n = len(arr)\n",
    "print(\"Sorted array is\")\n",
    "for i in range(n):\n",
    "    print(\"%d \" % arr[i], end='')\n"
   ]
  },
  {
   "cell_type": "markdown",
   "metadata": {},
   "source": [
    "Binary Heap"
   ]
  },
  {
   "cell_type": "code",
   "execution_count": 8,
   "metadata": {},
   "outputs": [
    {
     "name": "stdout",
     "output_type": "stream",
     "text": [
      "Head value of heap : 10\n",
      "The heap elements : \n",
      "10 25 20 40 30 \n",
      "\n",
      "The heap elements : \n",
      "20 25 30 40 "
     ]
    }
   ],
   "source": [
    "from heapq import heapify, heappush, heappop\n",
    "\n",
    "heap = []\n",
    "heapify(heap)\n",
    "\n",
    "heappush(heap, 10)\n",
    "heappush(heap, 30)\n",
    "heappush(heap, 20)\n",
    "heappush(heap, 40)\n",
    "heappush(heap,25)\n",
    "\n",
    "print(\"Head value of heap : \"+str(heap[0]))\n",
    "\n",
    "print(\"The heap elements : \")\n",
    "for i in heap:\n",
    "\tprint(i, end = ' ')\n",
    "print(\"\\n\")\n",
    "\n",
    "element = heappop(heap)\n",
    "\n",
    "# printing the elements of the heap\n",
    "print(\"The heap elements : \")\n",
    "for i in heap:\n",
    "\tprint(i, end = ' ')\n"
   ]
  },
  {
   "cell_type": "code",
   "execution_count": null,
   "metadata": {},
   "outputs": [],
   "source": []
  }
 ],
 "metadata": {
  "interpreter": {
   "hash": "31f2aee4e71d21fbe5cf8b01ff0e069b9275f58929596ceb00d14d90e3e16cd6"
  },
  "kernelspec": {
   "display_name": "Python 3.8.9 64-bit",
   "language": "python",
   "name": "python3"
  },
  "language_info": {
   "codemirror_mode": {
    "name": "ipython",
    "version": 3
   },
   "file_extension": ".py",
   "mimetype": "text/x-python",
   "name": "python",
   "nbconvert_exporter": "python",
   "pygments_lexer": "ipython3",
   "version": "3.8.9"
  },
  "orig_nbformat": 4
 },
 "nbformat": 4,
 "nbformat_minor": 2
}
