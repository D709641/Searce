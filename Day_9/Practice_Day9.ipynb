{
 "cells": [
  {
   "cell_type": "markdown",
   "id": "fc635253",
   "metadata": {},
   "source": [
    "# Hashtable and Hash functions\n"
   ]
  },
  {
   "cell_type": "code",
   "execution_count": 2,
   "id": "1d5bbfc0",
   "metadata": {},
   "outputs": [
    {
     "name": "stdout",
     "output_type": "stream",
     "text": [
      "[[], [], [123, 'apple'], [432, 'mango'], [213, 'banana'], [654, 'guava'], [], [], [], []]\n",
      "[[], [], 0, [432, 'mango'], [213, 'banana'], [654, 'guava'], [], [], [], []]\n"
     ]
    }
   ],
   "source": [
    "# Python program to demonstrate working of HashTable \n",
    "\n",
    "hashTable = [[],] * 10\n",
    "\n",
    "def checkPrime(n):\n",
    "    if n == 1 or n == 0:\n",
    "        return 0\n",
    "\n",
    "    for i in range(2, n//2):\n",
    "        if n % i == 0:\n",
    "            return 0\n",
    "\n",
    "    return 1\n",
    "\n",
    "\n",
    "def getPrime(n):\n",
    "    if n % 2 == 0:\n",
    "        n = n + 1\n",
    "\n",
    "    while not checkPrime(n):\n",
    "        n += 2\n",
    "\n",
    "    return n\n",
    "\n",
    "\n",
    "def hashFunction(key):\n",
    "    capacity = getPrime(10)\n",
    "    return key % capacity\n",
    "\n",
    "\n",
    "def insertData(key, data):\n",
    "    index = hashFunction(key)\n",
    "    hashTable[index] = [key, data]\n",
    "\n",
    "def removeData(key):\n",
    "    index = hashFunction(key)\n",
    "    hashTable[index] = 0\n",
    "\n",
    "insertData(123, \"apple\")\n",
    "insertData(432, \"mango\")\n",
    "insertData(213, \"banana\")\n",
    "insertData(654, \"guava\")\n",
    "\n",
    "print(hashTable)\n",
    "\n",
    "removeData(123)\n",
    "\n",
    "print(hashTable)"
   ]
  },
  {
   "cell_type": "code",
   "execution_count": null,
   "id": "10baff77",
   "metadata": {},
   "outputs": [],
   "source": []
  }
 ],
 "metadata": {
  "kernelspec": {
   "display_name": "Python 3",
   "language": "python",
   "name": "python3"
  },
  "language_info": {
   "codemirror_mode": {
    "name": "ipython",
    "version": 3
   },
   "file_extension": ".py",
   "mimetype": "text/x-python",
   "name": "python",
   "nbconvert_exporter": "python",
   "pygments_lexer": "ipython3",
   "version": "3.8.8"
  }
 },
 "nbformat": 4,
 "nbformat_minor": 5
}
