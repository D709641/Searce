{
 "cells": [
  {
   "cell_type": "markdown",
   "id": "14a8479e",
   "metadata": {},
   "source": [
    "# Array "
   ]
  },
  {
   "cell_type": "code",
   "execution_count": 15,
   "id": "255a81a7",
   "metadata": {},
   "outputs": [
    {
     "name": "stdout",
     "output_type": "stream",
     "text": [
      "inserted elements in array: 1 4\n",
      "4 6 3 5 2\n",
      "position: 4\n",
      "2 is at: 4 th position\n",
      "sorted array:  2 3 4 5 6\n"
     ]
    }
   ],
   "source": [
    "#define\n",
    "array=[]\n",
    "#insertion\n",
    "array.append(1)\n",
    "array.append(4)\n",
    "\n",
    "print(\"inserted elements in array:\", *array)\n",
    "\n",
    "array=[4,6,3,1,5,2]\n",
    "#deletion\n",
    "array.remove(1)\n",
    "print(*array)\n",
    "\n",
    "#searching-1\n",
    "for i in range(len(array)):\n",
    "    if array[i]==2:\n",
    "        print(\"position:\",i)\n",
    "#searching-2\n",
    "print(\"2 is at:\",array.index(2),\"th position\")\n",
    "\n",
    "#sorting\n",
    "array.sort()\n",
    "print(\"sorted array: \", *array)\n"
   ]
  },
  {
   "cell_type": "markdown",
   "id": "11cb69c0",
   "metadata": {},
   "source": [
    "# Stack and Queue"
   ]
  },
  {
   "cell_type": "code",
   "execution_count": 22,
   "id": "ecf76c1d",
   "metadata": {},
   "outputs": [
    {
     "name": "stdout",
     "output_type": "stream",
     "text": [
      "stack: 1 4 9 6 2\n",
      "stack after pop1: 1 4 9 6\n",
      "stack after pop2: 1 4 9\n"
     ]
    }
   ],
   "source": [
    "#stack have push and pop functionalities\n",
    "def push(stack,val):\n",
    "    stack.append(val)\n",
    "def pop(stack):\n",
    "    return stack.pop()\n",
    "if __name__=='__main__':\n",
    "    stack=[]\n",
    "    push(stack,1)\n",
    "    push(stack,4)\n",
    "    push(stack,9)\n",
    "    push(stack,6)\n",
    "    push(stack,2)\n",
    "    print(\"stack:\",*stack)\n",
    "    \n",
    "    pop(stack)\n",
    "    print(\"stack after pop1:\",*stack)\n",
    "    \n",
    "    pop(stack)\n",
    "    print(\"stack after pop2:\",*stack)"
   ]
  },
  {
   "cell_type": "code",
   "execution_count": 24,
   "id": "d0c579e3",
   "metadata": {},
   "outputs": [
    {
     "name": "stdout",
     "output_type": "stream",
     "text": [
      "queue: 1 4 9 6 2\n",
      "queue after dequeue1: 4 9 6 2\n",
      "queue after dequeue: 9 6 2\n"
     ]
    }
   ],
   "source": [
    "#queue have push and dequeue functionalities\n",
    "def push(queue,val):\n",
    "    queue.append(val)\n",
    "def dequeue(queue):\n",
    "    return queue.pop(0)\n",
    "if __name__=='__main__':\n",
    "    queue=[]\n",
    "    push(queue,1)\n",
    "    push(queue,4)\n",
    "    push(queue,9)\n",
    "    push(queue,6)\n",
    "    push(queue,2)\n",
    "    print(\"queue:\",*queue)\n",
    "    \n",
    "    dequeue(queue)\n",
    "    print(\"queue after dequeue1:\",*queue)\n",
    "    \n",
    "    dequeue(queue)\n",
    "    print(\"queue after dequeue:\",*queue)"
   ]
  },
  {
   "cell_type": "code",
   "execution_count": 36,
   "id": "2502aac0",
   "metadata": {},
   "outputs": [
    {
     "name": "stdout",
     "output_type": "stream",
     "text": [
      "Initial queue\n",
      "1 4 9 6 2 \n",
      "Queue is full\n",
      "queue after dequeue1:\n",
      "4 9 6 2 \n"
     ]
    }
   ],
   "source": [
    "##circular queue of size 5\n",
    "class CircularQueue():\n",
    "\n",
    "    def __init__(self, k):\n",
    "        self.k = k\n",
    "        self.queue = [None] * k\n",
    "        self.head = -1\n",
    "        self.tail = -1\n",
    "\n",
    "    # Insert an element into the circular queue\n",
    "    def push(self, data):\n",
    "\n",
    "        if ((self.tail + 1) % self.k == self.head):\n",
    "            print(\"Queue is full\")\n",
    "\n",
    "        elif (self.head == -1):\n",
    "            self.head = 0\n",
    "            self.tail = 0\n",
    "            self.queue[self.tail] = data\n",
    "        else:\n",
    "            self.tail = (self.tail + 1) % self.k\n",
    "            self.queue[self.tail] = data\n",
    "\n",
    "    # Delete an element from the circular queue\n",
    "    def dequeue(self):\n",
    "        if (self.head == -1):\n",
    "            print(\"The circular queue is empty\\n\")\n",
    "\n",
    "        elif (self.head == self.tail):\n",
    "            temp = self.queue[self.head]\n",
    "            self.head = -1\n",
    "            self.tail = -1\n",
    "            return temp\n",
    "        else:\n",
    "            temp = self.queue[self.head]\n",
    "            self.head = (self.head + 1) % self.k\n",
    "            return temp\n",
    "\n",
    "if __name__=='__main__':\n",
    "    obj = CircularQueue(5)\n",
    "    obj.push(1)\n",
    "    obj.push(4)\n",
    "    obj.push(9)\n",
    "    obj.push(6)\n",
    "    obj.push(2)\n",
    "    print(\"Initial queue\")\n",
    "    if(obj.head == -1):\n",
    "        print(\"No element in the circular queue\")\n",
    "\n",
    "    elif (obj.tail >= obj.head):\n",
    "        for i in range(obj.head, obj.tail + 1):\n",
    "            print(obj.queue[i], end=\" \")\n",
    "        print()\n",
    "    else:\n",
    "        for i in range(obj.head, obj.k):\n",
    "            print(obj.queue[i], end=\" \")\n",
    "        for i in range(0, obj.tail + 1):\n",
    "            print(obj.queue[i], end=\" \")\n",
    "        print()\n",
    "    \n",
    "    #queue is full\n",
    "    obj.push(10)\n",
    "    \n",
    "    obj.dequeue()\n",
    "    print(\"queue after dequeue1:\")\n",
    "    if(obj.head == -1):\n",
    "        print(\"No element in the circular queue\")\n",
    "\n",
    "    elif (obj.tail >= obj.head):\n",
    "        for i in range(obj.head, obj.tail + 1):\n",
    "            print(obj.queue[i], end=\" \")\n",
    "        print()\n",
    "    else:\n",
    "        for i in range(obj.head, obj.k):\n",
    "            print(obj.queue[i], end=\" \")\n",
    "        for i in range(0, obj.tail + 1):\n",
    "            print(obj.queue[i], end=\" \")\n",
    "        print()"
   ]
  },
  {
   "cell_type": "markdown",
   "id": "13c7f9e5",
   "metadata": {},
   "source": [
    "# Linked list\n"
   ]
  },
  {
   "cell_type": "code",
   "execution_count": 48,
   "id": "141e2883",
   "metadata": {},
   "outputs": [
    {
     "name": "stdout",
     "output_type": "stream",
     "text": [
      "5\n",
      "1 4 7 5 2\n",
      "Linked List:\n",
      "1 4 7 5 2 \n",
      "insertion of 3 at pos 3:\n",
      "1 4 3 7 5 2 \n"
     ]
    }
   ],
   "source": [
    "#singly linked list\n",
    "class Node:\n",
    "    def __init__(self, data):\n",
    "        self.data = data \n",
    "        self.next = None \n",
    "\n",
    "class LinkedList:\n",
    "    def __init__(self):\n",
    "        self.head = None\n",
    "\n",
    "def insert(head,pos,val):\n",
    "    c=1\n",
    "    a=head\n",
    "    while(c+1!=pos):\n",
    "        c+=1\n",
    "        head=head.next\n",
    "    b=head.next\n",
    "    head.next=Node(val)\n",
    "    head.next.next=b\n",
    "    return a\n",
    "\n",
    "if __name__=='__main__':\n",
    "    p=int(input())\n",
    "    q=list(map(int,input().split()))\n",
    "    l=LinkedList()\n",
    "    l.head=Node(q[0])\n",
    "    a=l.head\n",
    "    b=l.head\n",
    "    for i in range(1,p):\n",
    "        a.next=Node(q[i])\n",
    "        a=a.next\n",
    "    \n",
    "    print(\"Linked List:\")\n",
    "    while(l.head):\n",
    "        print(l.head.data,end=\" \")\n",
    "        l.head=l.head.next\n",
    "    print()\n",
    "    \n",
    "    print(\"insertion of 3 at pos 3:\")\n",
    "    pos=3\n",
    "    val=3\n",
    "    l.head=insert(b,pos,val)\n",
    "    while(l.head):\n",
    "        print(l.head.data,end=\" \")\n",
    "        l.head=l.head.next\n",
    "    print()\n"
   ]
  },
  {
   "cell_type": "code",
   "execution_count": null,
   "id": "3962b259",
   "metadata": {},
   "outputs": [],
   "source": []
  }
 ],
 "metadata": {
  "kernelspec": {
   "display_name": "Python 3",
   "language": "python",
   "name": "python3"
  },
  "language_info": {
   "codemirror_mode": {
    "name": "ipython",
    "version": 3
   },
   "file_extension": ".py",
   "mimetype": "text/x-python",
   "name": "python",
   "nbconvert_exporter": "python",
   "pygments_lexer": "ipython3",
   "version": "3.8.8"
  }
 },
 "nbformat": 4,
 "nbformat_minor": 5
}
