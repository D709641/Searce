{
 "cells": [
  {
   "cell_type": "markdown",
   "metadata": {},
   "source": [
    "Chaining in Hashing"
   ]
  },
  {
   "cell_type": "code",
   "execution_count": 8,
   "metadata": {},
   "outputs": [
    {
     "name": "stdout",
     "output_type": "stream",
     "text": [
      "Given key is present\n",
      "\n",
      "Hash table is :- \n",
      "\n",
      "Index \t\tValues\n",
      "\n",
      "0\t\t10 --->  90\n",
      "1\t\tNone\n",
      "2\t\t22\n",
      "3\t\tNone\n",
      "4\t\tNone\n",
      "5\t\t25 --->  5 --->  35\n",
      "6\t\tNone\n",
      "7\t\t27 --->  17\n",
      "8\t\tNone\n",
      "9\t\tNone\n"
     ]
    }
   ],
   "source": [
    "import numpy as np\n",
    "\n",
    "class Node() :\n",
    "    \n",
    "    def __init__(self,value) :\n",
    "        self.value = value\n",
    "        self.next = None\n",
    "\n",
    "class Linked_List() :\n",
    "    \n",
    "    def __init__(self) :\n",
    "        self.head = None\n",
    "        \n",
    "    def insert(self,value) :\n",
    "        if not self.head :\n",
    "            self.head = Node(value)\n",
    "        else :\n",
    "            temp = self.head\n",
    "            while temp.next :\n",
    "                temp = temp.next\n",
    "            temp.next = Node(value)\n",
    "            \n",
    "    def search(self,value) :\n",
    "        temp = self.head\n",
    "        while temp :\n",
    "            if temp.value == value :\n",
    "                return True\n",
    "            temp = temp.next\n",
    "        return False\n",
    "    \n",
    "    def print_LL(self) :\n",
    "        temp = self.head\n",
    "        if not temp :\n",
    "            print(None)\n",
    "        while temp :\n",
    "            if temp.next :\n",
    "                print(temp.value,\"--->\",end=\"  \")\n",
    "            else :\n",
    "                print(temp.value)\n",
    "            temp = temp.next\n",
    "            \n",
    "            \n",
    "class Hash_table() :\n",
    "    def __init__(self,size) :\n",
    "        self.size = size\n",
    "        self.hashtable = np.array([None]*self.size)\n",
    "        for x in range(self.size) :\n",
    "            self.hashtable[x] = Linked_List()\n",
    "        \n",
    "    def hash(self,key) :\n",
    "        # Hash function is h(x) = x%10\n",
    "        return key%10\n",
    "    \n",
    "    def insert_key(self,key) :\n",
    "        index = self.hash(key)\n",
    "        self.hashtable[index].insert(key)\n",
    "        \n",
    "    def search_key(self,key) :\n",
    "        index = self.hash(key)\n",
    "        boolean = self.hashtable[index].search(key)\n",
    "        return boolean\n",
    "\n",
    "    def print_HT(self) :\n",
    "        print(\"Hash table is :- \\n\")\n",
    "        print(\"Index \\t\\tValues\\n\")\n",
    "        for x in range(self.size) :\n",
    "            print(x,end=\"\\t\\t\")\n",
    "            self.hashtable[x].print_LL()\n",
    "    \n",
    "HT = Hash_table(10)\n",
    "HT.insert_key(10)\n",
    "HT.insert_key(90)\n",
    "HT.insert_key(25)\n",
    "HT.insert_key(5)\n",
    "HT.insert_key(35)\n",
    "HT.insert_key(27)\n",
    "HT.insert_key(17)\n",
    "HT.insert_key(22)\n",
    "\n",
    "if HT.search_key(17) :\n",
    "    print(\"Given key is present\\n\")\n",
    "else :\n",
    "    print(\"Given key is not present\\n\")\n",
    "HT.print_HT()"
   ]
  },
  {
   "cell_type": "code",
   "execution_count": null,
   "metadata": {},
   "outputs": [],
   "source": []
  }
 ],
 "metadata": {
  "interpreter": {
   "hash": "31f2aee4e71d21fbe5cf8b01ff0e069b9275f58929596ceb00d14d90e3e16cd6"
  },
  "kernelspec": {
   "display_name": "Python 3.8.9 64-bit",
   "language": "python",
   "name": "python3"
  },
  "language_info": {
   "codemirror_mode": {
    "name": "ipython",
    "version": 3
   },
   "file_extension": ".py",
   "mimetype": "text/x-python",
   "name": "python",
   "nbconvert_exporter": "python",
   "pygments_lexer": "ipython3",
   "version": "3.8.9"
  },
  "orig_nbformat": 4
 },
 "nbformat": 4,
 "nbformat_minor": 2
}
