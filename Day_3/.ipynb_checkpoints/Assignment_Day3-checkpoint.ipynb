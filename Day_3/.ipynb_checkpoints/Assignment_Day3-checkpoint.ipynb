{
 "cells": [
  {
   "cell_type": "code",
   "execution_count": 17,
   "id": "c4d5640d",
   "metadata": {},
   "outputs": [
    {
     "name": "stdout",
     "output_type": "stream",
     "text": [
      "Enter number of Pan:\n",
      "3\n",
      "order_time and cooing time(space separated)\n",
      "0 3\n",
      "order_time and cooing time(space separated)\n",
      "1 9\n",
      "order_time and cooing time(space separated)\n",
      "2 6\n",
      "Order_time\t Cooking\t Cooked \tWaiting \n",
      "0 \t\t 3 \t\t 3 \t\t 3\n",
      "2 \t\t 6 \t\t 9 \t\t 7\n",
      "1 \t\t 9 \t\t 18 \t\t 17\n",
      "Average waiting time is  9.0\n"
     ]
    }
   ],
   "source": [
    "def arrangeArrival(n, array):\n",
    "    for i in range(0, n):\n",
    "        for j in range(i, n-i-1):\n",
    "            if array[1][j] > array[1][j+1]:\n",
    "                for k in range(0, n):\n",
    "                    array[k][j], array[k][j+1] = array[k][j+1], array[k][j]\n",
    "\n",
    "\n",
    "def CompletionTime(n, array):\n",
    "    value = 0\n",
    "    array[2][0] = array[0][0] + array[1][0]\n",
    "    array[3][0] = array[2][0] - array[0][0]\n",
    "\n",
    "    for i in range(1, n):\n",
    "        temp = array[2][i-1]\n",
    "        mini = array[1][i]\n",
    "        for j in range(i, n):\n",
    "            if temp >= array[0][j] and mini >= array[1][j]:\n",
    "                mini = array[1][j]\n",
    "                value = j\n",
    "        array[2][value] = temp + array[1][value]\n",
    "        array[3][value] = array[2][value] - array[0][value]\n",
    "\n",
    "        for k in range(0, 4):\n",
    "            array[k][value], array[k][i] = array[k][i], array[k][value]\n",
    "\n",
    "\n",
    "#1st row-order_time\n",
    "#2nd row-cooking_time\n",
    "#3rd row-cooked_time\n",
    "#4th row-Waiting_time\n",
    "\n",
    "if __name__ == '__main__':\n",
    "    print(\"Enter number of Pan:\")\n",
    "    n=int(input())\n",
    "    order=[]\n",
    "    cooking=[]\n",
    "    for i in range(n):\n",
    "        print(\"order_time and cooing time(space separated)\")\n",
    "        o,c=map(int,input().split())\n",
    "        order.append(o)\n",
    "        cooking.append(c)\n",
    "    arr = [order,cooking, [0]*n, [0]*n]\n",
    "    arrangeArrival(n, arr)\n",
    "    CompletionTime(n, arr)\n",
    "    print(\"Order_time\\t Cooking\\t Cooked \\tWaiting \")\n",
    "    waitingtime = 0\n",
    "    turaroundtime = 0\n",
    "    for i in range(0, n):\n",
    "        print(arr[0][i], \"\\t\\t\", arr[1][i], \"\\t\\t\", arr[2][i], \"\\t\\t\", arr[3][i])\n",
    "        waitingtime += arr[3][i]\n",
    "        #turaroundtime += arr[5][i]\n",
    "    print(\"Average waiting time is \", (waitingtime/n))\n",
    "    \n",
    "\n"
   ]
  },
  {
   "cell_type": "code",
   "execution_count": null,
   "id": "2e9f2ac7",
   "metadata": {},
   "outputs": [],
   "source": []
  }
 ],
 "metadata": {
  "kernelspec": {
   "display_name": "Python 3",
   "language": "python",
   "name": "python3"
  },
  "language_info": {
   "codemirror_mode": {
    "name": "ipython",
    "version": 3
   },
   "file_extension": ".py",
   "mimetype": "text/x-python",
   "name": "python",
   "nbconvert_exporter": "python",
   "pygments_lexer": "ipython3",
   "version": "3.8.8"
  }
 },
 "nbformat": 4,
 "nbformat_minor": 5
}
