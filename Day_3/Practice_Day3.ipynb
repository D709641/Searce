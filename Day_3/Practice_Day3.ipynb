{
 "cells": [
  {
   "cell_type": "markdown",
   "id": "873da04a",
   "metadata": {},
   "source": [
    "# Hash Table"
   ]
  },
  {
   "cell_type": "code",
   "execution_count": 6,
   "id": "38643f0a",
   "metadata": {},
   "outputs": [
    {
     "name": "stdout",
     "output_type": "stream",
     "text": [
      "[[], [], [], [], []]\n",
      "0\n",
      "0\n",
      "2\n",
      "[['Nepal'], [], [], [], []]\n",
      "[['Nepal'], [], ['USA'], [], []]\n",
      "[['Nepal', 'India'], [], ['USA'], [], []]\n",
      "['Nepal', 'India']\n"
     ]
    }
   ],
   "source": [
    "hash_table = [[]for i in range(5)]\n",
    "print (hash_table)\n",
    "\n",
    "#finding hash value \n",
    "def hashing(key):\n",
    "    return key % len(hash_table)\n",
    "\n",
    "#finding the value stored for the key by hashvalue\n",
    "def get(key):\n",
    "    return hash_table[key%len(hash_table)]\n",
    "\n",
    "print(hashing(10))\n",
    "print(hashing(20)) \n",
    "print(hashing(22)) \n",
    "\n",
    "#inserting value using hash value of key\n",
    "def insert(hash_table, key, value):\n",
    "    hash_key = hashing(key)\n",
    "    hash_table[hash_key].append(value)\n",
    "\n",
    "insert(hash_table, 10, 'Nepal')\n",
    "print(hash_table)\n",
    "\n",
    "insert(hash_table, 22, 'USA')\n",
    "print(hash_table)\n",
    "\n",
    "insert(hash_table, 20, 'India')\n",
    "print(hash_table)\n",
    "\n",
    "print(get(20))"
   ]
  },
  {
   "cell_type": "markdown",
   "id": "cbac3471",
   "metadata": {},
   "source": [
    "# Pattern finding in String\n"
   ]
  },
  {
   "cell_type": "code",
   "execution_count": 17,
   "id": "5d33b121",
   "metadata": {},
   "outputs": [
    {
     "name": "stdout",
     "output_type": "stream",
     "text": [
      "Found at index 0\n",
      "Found at index 10\n"
     ]
    }
   ],
   "source": [
    "def search(string,pat):\n",
    "    \n",
    "    l = len(string)\n",
    "    l_p = len(pat)\n",
    "    con = 26\n",
    "    \n",
    "    hashval = 0  \n",
    "    currhash = 0 \n",
    "    for i in range(l_p):\n",
    "        hashval += (ord(pat[i])-ord('A')+1)*(con**(l_p-i-1))\n",
    "        currhash += (ord(string[i])-ord('A')+1)*(con**(l_p-i-1)) \n",
    "    for j in range(l-l_p+1):\n",
    "        if j!=0:\n",
    "            currhash = con*(currhash-((ord(string[j-1])-ord('A')+1)*(con**(l_p-1))))+(ord(string[j+l_p-1])-ord('A')+1)\n",
    "  \n",
    "        if(currhash==hashval):\n",
    "            print(\"Found at index\",j)\n",
    "s=\"GEEKS FOR GEEKS\"\n",
    "p=\"GEEKS\"\n",
    "search(s,p)"
   ]
  },
  {
   "cell_type": "markdown",
   "id": "7577d0fd",
   "metadata": {},
   "source": [
    "# Queue "
   ]
  },
  {
   "cell_type": "code",
   "execution_count": 19,
   "id": "b902f612",
   "metadata": {},
   "outputs": [
    {
     "name": "stdout",
     "output_type": "stream",
     "text": [
      "True\n",
      "False\n",
      "1 5\n",
      "2 5\n",
      "True\n"
     ]
    }
   ],
   "source": [
    "class Queue:\n",
    "    def __init__(self):\n",
    "        self.elements = []\n",
    "\n",
    "    def enqueue(self, data):\n",
    "        self.elements.append(data)\n",
    "        return data\n",
    "\n",
    "    def dequeue(self):\n",
    "        return self.elements.pop(0)\n",
    "\n",
    "    def rear(self):\n",
    "        return self.elements[-1]\n",
    "\n",
    "    def front(self):\n",
    "        return self.elements[0]\n",
    "\n",
    "    def is_empty(self):\n",
    "        return len(self.elements) == 0\n",
    "\n",
    "if __name__ == '__main__':\n",
    "    queue = Queue()\n",
    "    print(queue.is_empty())\n",
    "    queue.enqueue(1)\n",
    "    queue.enqueue(2)\n",
    "    queue.enqueue(3)\n",
    "    queue.enqueue(4)\n",
    "    queue.enqueue(5)\n",
    "    print(queue.is_empty())\n",
    "    print(queue.front(), end=' ')\n",
    "    print(queue.rear())\n",
    "    queue.dequeue()\n",
    "    print(queue.front(), end=' ')\n",
    "    print(queue.rear())\n",
    "    queue.dequeue()\n",
    "    queue.dequeue()\n",
    "    queue.dequeue()\n",
    "    queue.dequeue()\n",
    "    print(queue.is_empty())"
   ]
  },
  {
   "cell_type": "code",
   "execution_count": null,
   "id": "d4a7b96a",
   "metadata": {},
   "outputs": [],
   "source": []
  }
 ],
 "metadata": {
  "kernelspec": {
   "display_name": "Python 3",
   "language": "python",
   "name": "python3"
  },
  "language_info": {
   "codemirror_mode": {
    "name": "ipython",
    "version": 3
   },
   "file_extension": ".py",
   "mimetype": "text/x-python",
   "name": "python",
   "nbconvert_exporter": "python",
   "pygments_lexer": "ipython3",
   "version": "3.8.8"
  }
 },
 "nbformat": 4,
 "nbformat_minor": 5
}
