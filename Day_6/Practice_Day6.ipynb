{
 "cells": [
  {
   "cell_type": "markdown",
   "metadata": {},
   "source": [
    "Linear sorting"
   ]
  },
  {
   "cell_type": "code",
   "execution_count": 1,
   "metadata": {},
   "outputs": [
    {
     "name": "stdout",
     "output_type": "stream",
     "text": [
      "[1, 2, 4, 5, 8]\n"
     ]
    }
   ],
   "source": [
    "#Bubble sort\n",
    "def bubble_sort(nums):\n",
    "    # We set flag to True so the loop looks runs at least once\n",
    "    flag = True\n",
    "    while flag:\n",
    "        flag = False\n",
    "        for i in range(len(nums) - 1):\n",
    "            if nums[i] > nums[i + 1]:\n",
    "                # Swap the elements\n",
    "                nums[i], nums[i + 1] = nums[i + 1], nums[i]\n",
    "                # Set the flag to True so we'll loop again\n",
    "                flag = True\n",
    "\n",
    "\n",
    "random_list_of_nums = [5, 2, 1, 8, 4]\n",
    "bubble_sort(random_list_of_nums)\n",
    "print(random_list_of_nums)"
   ]
  },
  {
   "cell_type": "code",
   "execution_count": 2,
   "metadata": {},
   "outputs": [
    {
     "name": "stdout",
     "output_type": "stream",
     "text": [
      "[3, 8, 11, 12, 20]\n"
     ]
    }
   ],
   "source": [
    "#Selcetion sort\n",
    "def selection_sort(nums):\n",
    "    for i in range(len(nums)):\n",
    "        mn = i\n",
    "        for j in range(i + 1, len(nums)):\n",
    "            if nums[j] < nums[mn]:\n",
    "                mn = j\n",
    "        nums[i], nums[mn] = nums[mn], nums[i]\n",
    "\n",
    "\n",
    "random_list_of_nums = [12, 8, 3, 20, 11]\n",
    "selection_sort(random_list_of_nums)\n",
    "print(random_list_of_nums)"
   ]
  },
  {
   "cell_type": "code",
   "execution_count": 3,
   "metadata": {},
   "outputs": [
    {
     "name": "stdout",
     "output_type": "stream",
     "text": [
      "[1, 6, 9, 15, 28]\n"
     ]
    }
   ],
   "source": [
    "#Insertion sort\n",
    "def insertion_sort(nums):\n",
    "    for i in range(1, len(nums)):\n",
    "        val = nums[i]\n",
    "        j = i - 1\n",
    "        while j >= 0 and nums[j] > val:\n",
    "            nums[j + 1] = nums[j]\n",
    "            j -= 1\n",
    "        nums[j + 1] = val\n",
    "\n",
    "\n",
    "random_list_of_nums = [9, 1, 15, 28, 6]\n",
    "insertion_sort(random_list_of_nums)\n",
    "print(random_list_of_nums)"
   ]
  },
  {
   "cell_type": "code",
   "execution_count": 4,
   "metadata": {},
   "outputs": [
    {
     "name": "stdout",
     "output_type": "stream",
     "text": [
      "[45, 68, 120, 176, 250]\n"
     ]
    }
   ],
   "source": [
    "#Merge sort\n",
    "def merge(left_list, right_list):\n",
    "    ans = []\n",
    "    left = right = 0\n",
    "    llength, rlength = len(left_list), len(right_list)\n",
    "\n",
    "    for _ in range(llength + rlength):\n",
    "        if left < llength and right < rlength:\n",
    "            if left_list[left] <= right_list[right]:\n",
    "                ans.append(left_list[left])\n",
    "                left += 1\n",
    "            else:\n",
    "                ans.append(right_list[right])\n",
    "                right += 1\n",
    "\n",
    "        elif left == llength:\n",
    "            ans.append(right_list[right])\n",
    "            right += 1\n",
    "        elif right == rlength:\n",
    "            ans.append(left_list[left])\n",
    "            left += 1\n",
    "\n",
    "    return ans\n",
    "\n",
    "\n",
    "def merge_sort(nums):\n",
    "    if len(nums) <= 1:\n",
    "        return nums\n",
    "    mid = len(nums) // 2\n",
    "    left_list = merge_sort(nums[:mid])\n",
    "    right_list = merge_sort(nums[mid:])\n",
    "    return merge(left_list, right_list)\n",
    "\n",
    "\n",
    "random_list_of_nums = [120, 45, 68, 250, 176]\n",
    "random_list_of_nums = merge_sort(random_list_of_nums)\n",
    "print(random_list_of_nums)\n"
   ]
  },
  {
   "cell_type": "code",
   "execution_count": 6,
   "metadata": {},
   "outputs": [
    {
     "name": "stdout",
     "output_type": "stream",
     "text": [
      "[1, 5, 18, 22, 99]\n"
     ]
    }
   ],
   "source": [
    "#Quick sort\n",
    "def partition(nums, low, high):\n",
    "    pivot = nums[(low + high) // 2]\n",
    "    i = low - 1\n",
    "    j = high + 1\n",
    "    while True:\n",
    "        i += 1\n",
    "        while nums[i] < pivot:\n",
    "            i += 1\n",
    "\n",
    "        j -= 1\n",
    "        while nums[j] > pivot:\n",
    "            j -= 1\n",
    "\n",
    "        if i >= j:\n",
    "            return j\n",
    "        nums[i], nums[j] = nums[j], nums[i]\n",
    "\n",
    "\n",
    "def _quick_sort(items, low, high):\n",
    "    if low < high:\n",
    "        split_index = partition(items, low, high)\n",
    "        _quick_sort(items, low, split_index)\n",
    "        _quick_sort(items, split_index + 1, high)\n",
    "\n",
    "\n",
    "\n",
    "# Verify it works\n",
    "array = [22, 5, 1, 18, 99]\n",
    "_quick_sort(array,0,len(array)-1)\n",
    "print(array)"
   ]
  },
  {
   "cell_type": "code",
   "execution_count": null,
   "metadata": {},
   "outputs": [],
   "source": []
  }
 ],
 "metadata": {
  "interpreter": {
   "hash": "31f2aee4e71d21fbe5cf8b01ff0e069b9275f58929596ceb00d14d90e3e16cd6"
  },
  "kernelspec": {
   "display_name": "Python 3.8.9 64-bit",
   "language": "python",
   "name": "python3"
  },
  "language_info": {
   "codemirror_mode": {
    "name": "ipython",
    "version": 3
   },
   "file_extension": ".py",
   "mimetype": "text/x-python",
   "name": "python",
   "nbconvert_exporter": "python",
   "pygments_lexer": "ipython3",
   "version": "3.8.9"
  },
  "orig_nbformat": 4
 },
 "nbformat": 4,
 "nbformat_minor": 2
}
